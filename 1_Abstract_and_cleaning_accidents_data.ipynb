{
 "cells": [
  {
   "cell_type": "markdown",
   "metadata": {},
   "source": [
    "# Project abstract"
   ]
  },
  {
   "cell_type": "markdown",
   "metadata": {},
   "source": [
    "**Project aims**\n",
    "\n",
    "Each year about 1.25 million people die in road traffic accidents, and an additional 20-50 million are injured or disabled. If the locations of traffic accidents could be predicted, this could have a huge beneficial impact in potentially helping to reduce the number of accidents each year. For example, routing software could avoid the most dangerous areas - particularly in the context of the coming advent of driverless cars. It could also be useful in an insurance context, in order to predict risk, as well as for governments and local road authorities looking to create more efficient systems of road maintenance and improvements. The aim of this project is to predict where traffic accidents are likely to occur. \n",
    "\n",
    "\n",
    "**Methodology**\n",
    "\n",
    "For this problem, we didn’t want to just look at traditional structured data and machine learning models. Instead, we wanted to find out if satellite imagery could be combined with other datasets in order to increase our ability to predict where traffic accidents are likely to occur. Our methodology for this project was to make four models:\n",
    "\n",
    "*Model 1* uses a combination of accident, population density and traffic data from the UK, where we focused on accidents in London.  Different machine learning models were built to see if the level of accident severity could be predicted.  \n",
    "\n",
    "*Model 2* uses satellite images of London that were scraped using Google Maps Static API and fed into a Convolutional Neural Network (CNN) in order to predict where traffic accidents are likely to occur.\n",
    "\n",
    "*Model 3* then makes use of Keras functional API to combine the top features from model 1 and the image features extracted from a CNN (similar to model 2) to create a mixed-input or mixed data model. Both data types are fed into separate deep learning models and their outputs are combined for the final layers in order to predict whether a given area is likely to have traffic accidents or not. \n",
    "\n",
    "*Model 4* uses the same model architecture as model 3, but applies it to the task of distinguishing between areas with no traffic accidents and areas with serious or fatal traffic accidents, in order to predict the locations of the worst traffic accidents.\n",
    "\n",
    "\n",
    "**Results**\n",
    "\n",
    "Our findings showed that being able to predict accident severity was quite difficult due to the imbalance between slight, serious, and fatal accidents (58% accuracy).  Using satellite images with a CNN model yielded strong results in predicting traffic accident locations (77% accuracy). The mixed data models had an even higher accuracy (80% for no accidents vs. any accidents, and 82% for no accidents vs. serious or fatal accidents), producing better results from combining image features with structured data. There are also several promising options to improve the model further, beyond this initial proof of concept.\n",
    "\n",
    "Overall, we were able to demonstrate that combining satellite images with structured data can increase the predictive capacity of a model to predict the location of traffic accidents.\n",
    "\n",
    "\n",
    "**Notebook structure**\n",
    "\n",
    "The following notebooks show the steps we took in order to reach these findings:\n",
    "1. Cleaning the accident data\n",
    "2. Cleaning the traffic and population density data, merging this with the accident data, and downloading satellite images from the Google Maps Static API\n",
    "3. Exploring the geographical distribution of the data, and comparing the characteristics of accidents of different levels of severity\n",
    "4. Exploring the changes in accident numbers over time, and investigating various other features of the accident dataset\n",
    "5. Model 1 - predicting traffic accident severity with structured data\n",
    "6. Model 2 - predicting traffic accident location from satellite imagery\n",
    "7. Model 3 - predicting traffic accident location using mixed data (satellite imagery and structured data)"
   ]
  },
  {
   "cell_type": "markdown",
   "metadata": {
    "colab_type": "text",
    "id": "xXYQlI6ZZlLl"
   },
   "source": [
    "# Cleaning the traffic accident dataset"
   ]
  },
  {
   "cell_type": "markdown",
   "metadata": {},
   "source": [
    "In this notebook, the dataset on traffic accidents in England and Wales from 2013-2017 will be cleaned and pre-processed.\n",
    "\n",
    "Source: https://data.gov.uk/dataset/cb7ae6f0-4be6-4935-9277-47e5ce24a11f/road-safety-data"
   ]
  },
  {
   "cell_type": "code",
   "execution_count": 1,
   "metadata": {
    "colab": {},
    "colab_type": "code",
    "id": "JJn0DkgjZlLo"
   },
   "outputs": [],
   "source": [
    "import pandas as pd\n",
    "import matplotlib.pyplot as plt\n",
    "%matplotlib inline\n",
    "import numpy as np\n",
    "import seaborn as sns\n",
    "import urllib, os\n",
    "import glob\n",
    "from sklearn.model_selection import train_test_split, GridSearchCV\n",
    "from sklearn.preprocessing import MinMaxScaler, LabelEncoder, StandardScaler\n",
    "from sklearn.ensemble import RandomForestClassifier\n",
    "from sklearn.metrics import accuracy_score, confusion_matrix, auc, roc_curve, classification_report\n",
    "import warnings\n",
    "warnings.filterwarnings(\"ignore\")"
   ]
  },
  {
   "cell_type": "markdown",
   "metadata": {
    "colab_type": "text",
    "id": "WJRllLqhZlL5"
   },
   "source": [
    "## Importing the data"
   ]
  },
  {
   "cell_type": "code",
   "execution_count": 2,
   "metadata": {},
   "outputs": [],
   "source": [
    "accidents_df = pd.concat([pd.read_csv(f) for f in glob.glob('data/Accidents/Accidents*.csv')], ignore_index = True)"
   ]
  },
  {
   "cell_type": "code",
   "execution_count": 3,
   "metadata": {
    "colab": {},
    "colab_type": "code",
    "id": "L0gPGqqSZlMj",
    "outputId": "aeb058d4-6f43-4b19-da20-3cb9c123fb66"
   },
   "outputs": [
    {
     "data": {
      "text/plain": [
       "691641"
      ]
     },
     "execution_count": 3,
     "metadata": {},
     "output_type": "execute_result"
    }
   ],
   "source": [
    "len(accidents_df)"
   ]
  },
  {
   "cell_type": "code",
   "execution_count": 4,
   "metadata": {},
   "outputs": [
    {
     "data": {
      "text/html": [
       "<div>\n",
       "<style scoped>\n",
       "    .dataframe tbody tr th:only-of-type {\n",
       "        vertical-align: middle;\n",
       "    }\n",
       "\n",
       "    .dataframe tbody tr th {\n",
       "        vertical-align: top;\n",
       "    }\n",
       "\n",
       "    .dataframe thead th {\n",
       "        text-align: right;\n",
       "    }\n",
       "</style>\n",
       "<table border=\"1\" class=\"dataframe\">\n",
       "  <thead>\n",
       "    <tr style=\"text-align: right;\">\n",
       "      <th></th>\n",
       "      <th>Accident_Index</th>\n",
       "      <th>Location_Easting_OSGR</th>\n",
       "      <th>Location_Northing_OSGR</th>\n",
       "      <th>Longitude</th>\n",
       "      <th>Latitude</th>\n",
       "      <th>Police_Force</th>\n",
       "      <th>Accident_Severity</th>\n",
       "      <th>Number_of_Vehicles</th>\n",
       "      <th>Number_of_Casualties</th>\n",
       "      <th>Date</th>\n",
       "      <th>...</th>\n",
       "      <th>Pedestrian_Crossing-Human_Control</th>\n",
       "      <th>Pedestrian_Crossing-Physical_Facilities</th>\n",
       "      <th>Light_Conditions</th>\n",
       "      <th>Weather_Conditions</th>\n",
       "      <th>Road_Surface_Conditions</th>\n",
       "      <th>Special_Conditions_at_Site</th>\n",
       "      <th>Carriageway_Hazards</th>\n",
       "      <th>Urban_or_Rural_Area</th>\n",
       "      <th>Did_Police_Officer_Attend_Scene_of_Accident</th>\n",
       "      <th>LSOA_of_Accident_Location</th>\n",
       "    </tr>\n",
       "  </thead>\n",
       "  <tbody>\n",
       "    <tr>\n",
       "      <th>0</th>\n",
       "      <td>201501BS70001</td>\n",
       "      <td>525130.0</td>\n",
       "      <td>180050.0</td>\n",
       "      <td>-0.198465</td>\n",
       "      <td>51.505538</td>\n",
       "      <td>1</td>\n",
       "      <td>3</td>\n",
       "      <td>1</td>\n",
       "      <td>1</td>\n",
       "      <td>12/01/2015</td>\n",
       "      <td>...</td>\n",
       "      <td>0</td>\n",
       "      <td>0</td>\n",
       "      <td>4</td>\n",
       "      <td>1</td>\n",
       "      <td>1</td>\n",
       "      <td>0</td>\n",
       "      <td>0</td>\n",
       "      <td>1</td>\n",
       "      <td>1</td>\n",
       "      <td>E01002825</td>\n",
       "    </tr>\n",
       "    <tr>\n",
       "      <th>1</th>\n",
       "      <td>201501BS70002</td>\n",
       "      <td>526530.0</td>\n",
       "      <td>178560.0</td>\n",
       "      <td>-0.178838</td>\n",
       "      <td>51.491836</td>\n",
       "      <td>1</td>\n",
       "      <td>3</td>\n",
       "      <td>1</td>\n",
       "      <td>1</td>\n",
       "      <td>12/01/2015</td>\n",
       "      <td>...</td>\n",
       "      <td>0</td>\n",
       "      <td>0</td>\n",
       "      <td>1</td>\n",
       "      <td>1</td>\n",
       "      <td>1</td>\n",
       "      <td>0</td>\n",
       "      <td>0</td>\n",
       "      <td>1</td>\n",
       "      <td>1</td>\n",
       "      <td>E01002820</td>\n",
       "    </tr>\n",
       "    <tr>\n",
       "      <th>2</th>\n",
       "      <td>201501BS70004</td>\n",
       "      <td>524610.0</td>\n",
       "      <td>181080.0</td>\n",
       "      <td>-0.205590</td>\n",
       "      <td>51.514910</td>\n",
       "      <td>1</td>\n",
       "      <td>3</td>\n",
       "      <td>1</td>\n",
       "      <td>1</td>\n",
       "      <td>12/01/2015</td>\n",
       "      <td>...</td>\n",
       "      <td>0</td>\n",
       "      <td>1</td>\n",
       "      <td>4</td>\n",
       "      <td>2</td>\n",
       "      <td>2</td>\n",
       "      <td>0</td>\n",
       "      <td>0</td>\n",
       "      <td>1</td>\n",
       "      <td>1</td>\n",
       "      <td>E01002833</td>\n",
       "    </tr>\n",
       "    <tr>\n",
       "      <th>3</th>\n",
       "      <td>201501BS70005</td>\n",
       "      <td>524420.0</td>\n",
       "      <td>181080.0</td>\n",
       "      <td>-0.208327</td>\n",
       "      <td>51.514952</td>\n",
       "      <td>1</td>\n",
       "      <td>3</td>\n",
       "      <td>1</td>\n",
       "      <td>1</td>\n",
       "      <td>13/01/2015</td>\n",
       "      <td>...</td>\n",
       "      <td>0</td>\n",
       "      <td>0</td>\n",
       "      <td>1</td>\n",
       "      <td>1</td>\n",
       "      <td>2</td>\n",
       "      <td>0</td>\n",
       "      <td>0</td>\n",
       "      <td>1</td>\n",
       "      <td>2</td>\n",
       "      <td>E01002874</td>\n",
       "    </tr>\n",
       "    <tr>\n",
       "      <th>4</th>\n",
       "      <td>201501BS70008</td>\n",
       "      <td>524630.0</td>\n",
       "      <td>179040.0</td>\n",
       "      <td>-0.206022</td>\n",
       "      <td>51.496572</td>\n",
       "      <td>1</td>\n",
       "      <td>2</td>\n",
       "      <td>2</td>\n",
       "      <td>1</td>\n",
       "      <td>09/01/2015</td>\n",
       "      <td>...</td>\n",
       "      <td>0</td>\n",
       "      <td>5</td>\n",
       "      <td>1</td>\n",
       "      <td>2</td>\n",
       "      <td>2</td>\n",
       "      <td>0</td>\n",
       "      <td>0</td>\n",
       "      <td>1</td>\n",
       "      <td>2</td>\n",
       "      <td>E01002814</td>\n",
       "    </tr>\n",
       "  </tbody>\n",
       "</table>\n",
       "<p>5 rows × 32 columns</p>\n",
       "</div>"
      ],
      "text/plain": [
       "  Accident_Index  Location_Easting_OSGR  Location_Northing_OSGR  Longitude  \\\n",
       "0  201501BS70001               525130.0                180050.0  -0.198465   \n",
       "1  201501BS70002               526530.0                178560.0  -0.178838   \n",
       "2  201501BS70004               524610.0                181080.0  -0.205590   \n",
       "3  201501BS70005               524420.0                181080.0  -0.208327   \n",
       "4  201501BS70008               524630.0                179040.0  -0.206022   \n",
       "\n",
       "    Latitude  Police_Force  Accident_Severity  Number_of_Vehicles  \\\n",
       "0  51.505538             1                  3                   1   \n",
       "1  51.491836             1                  3                   1   \n",
       "2  51.514910             1                  3                   1   \n",
       "3  51.514952             1                  3                   1   \n",
       "4  51.496572             1                  2                   2   \n",
       "\n",
       "   Number_of_Casualties        Date            ...              \\\n",
       "0                     1  12/01/2015            ...               \n",
       "1                     1  12/01/2015            ...               \n",
       "2                     1  12/01/2015            ...               \n",
       "3                     1  13/01/2015            ...               \n",
       "4                     1  09/01/2015            ...               \n",
       "\n",
       "   Pedestrian_Crossing-Human_Control Pedestrian_Crossing-Physical_Facilities  \\\n",
       "0                                  0                                       0   \n",
       "1                                  0                                       0   \n",
       "2                                  0                                       1   \n",
       "3                                  0                                       0   \n",
       "4                                  0                                       5   \n",
       "\n",
       "   Light_Conditions Weather_Conditions  Road_Surface_Conditions  \\\n",
       "0                 4                  1                        1   \n",
       "1                 1                  1                        1   \n",
       "2                 4                  2                        2   \n",
       "3                 1                  1                        2   \n",
       "4                 1                  2                        2   \n",
       "\n",
       "   Special_Conditions_at_Site  Carriageway_Hazards  Urban_or_Rural_Area  \\\n",
       "0                           0                    0                    1   \n",
       "1                           0                    0                    1   \n",
       "2                           0                    0                    1   \n",
       "3                           0                    0                    1   \n",
       "4                           0                    0                    1   \n",
       "\n",
       "   Did_Police_Officer_Attend_Scene_of_Accident  LSOA_of_Accident_Location  \n",
       "0                                            1                  E01002825  \n",
       "1                                            1                  E01002820  \n",
       "2                                            1                  E01002833  \n",
       "3                                            2                  E01002874  \n",
       "4                                            2                  E01002814  \n",
       "\n",
       "[5 rows x 32 columns]"
      ]
     },
     "execution_count": 4,
     "metadata": {},
     "output_type": "execute_result"
    }
   ],
   "source": [
    "accidents_df.head()"
   ]
  },
  {
   "cell_type": "code",
   "execution_count": 5,
   "metadata": {},
   "outputs": [
    {
     "name": "stdout",
     "output_type": "stream",
     "text": [
      "<class 'pandas.core.frame.DataFrame'>\n",
      "RangeIndex: 691641 entries, 0 to 691640\n",
      "Data columns (total 32 columns):\n",
      "Accident_Index                                 691641 non-null object\n",
      "Location_Easting_OSGR                          691588 non-null float64\n",
      "Location_Northing_OSGR                         691588 non-null float64\n",
      "Longitude                                      691578 non-null float64\n",
      "Latitude                                       691578 non-null float64\n",
      "Police_Force                                   691641 non-null int64\n",
      "Accident_Severity                              691641 non-null int64\n",
      "Number_of_Vehicles                             691641 non-null int64\n",
      "Number_of_Casualties                           691641 non-null int64\n",
      "Date                                           691641 non-null object\n",
      "Day_of_Week                                    691641 non-null int64\n",
      "Time                                           691610 non-null object\n",
      "Local_Authority_(District)                     691641 non-null int64\n",
      "Local_Authority_(Highway)                      691641 non-null object\n",
      "1st_Road_Class                                 691641 non-null int64\n",
      "1st_Road_Number                                691641 non-null int64\n",
      "Road_Type                                      691641 non-null int64\n",
      "Speed_limit                                    691604 non-null float64\n",
      "Junction_Detail                                691641 non-null int64\n",
      "Junction_Control                               691641 non-null int64\n",
      "2nd_Road_Class                                 691641 non-null int64\n",
      "2nd_Road_Number                                691641 non-null int64\n",
      "Pedestrian_Crossing-Human_Control              691641 non-null int64\n",
      "Pedestrian_Crossing-Physical_Facilities        691641 non-null int64\n",
      "Light_Conditions                               691641 non-null int64\n",
      "Weather_Conditions                             691641 non-null int64\n",
      "Road_Surface_Conditions                        691641 non-null int64\n",
      "Special_Conditions_at_Site                     691641 non-null int64\n",
      "Carriageway_Hazards                            691641 non-null int64\n",
      "Urban_or_Rural_Area                            691641 non-null int64\n",
      "Did_Police_Officer_Attend_Scene_of_Accident    691641 non-null int64\n",
      "LSOA_of_Accident_Location                      648221 non-null object\n",
      "dtypes: float64(5), int64(22), object(5)\n",
      "memory usage: 168.9+ MB\n"
     ]
    }
   ],
   "source": [
    "accidents_df.info()"
   ]
  },
  {
   "cell_type": "markdown",
   "metadata": {},
   "source": [
    "## Cleaning the dataset\n",
    "Below will drop initial columns based on domain knowledge and reading through the data dictionary."
   ]
  },
  {
   "cell_type": "code",
   "execution_count": 6,
   "metadata": {},
   "outputs": [
    {
     "data": {
      "text/plain": [
       "(691641, 24)"
      ]
     },
     "execution_count": 6,
     "metadata": {},
     "output_type": "execute_result"
    }
   ],
   "source": [
    "# First make initial list of column to drop that won't be useful\n",
    "# Accident Severity should be object\n",
    "# Date to date_time\n",
    "# Day_of_Week to object\n",
    "# Time to date_time\n",
    "# 1st/2nd_Road_Class is object but are numbers\n",
    "# Note Road_Type is object but are numbers\n",
    "# Junction_Detail is float but should be objects\n",
    "# Junction_Control is object but are numbers\n",
    "# Light/Weather/Road_Surface_Conditions/Special_Conditions_at_Site/Carriageway_Hazards are objects but numbers\n",
    "# Urban_or_Rural_Area is int should be strings\n",
    "# Also note nulls are usually marked by -1\n",
    "drop_list = ['Police_Force', 'Local_Authority_(District)', 'Local_Authority_(Highway)', \n",
    "             '1st_Road_Number', '2nd_Road_Number', 'Pedestrian_Crossing-Human_Control', \n",
    "             'Pedestrian_Crossing-Physical_Facilities','Did_Police_Officer_Attend_Scene_of_Accident']\n",
    "accidents_df = accidents_df.drop(labels=drop_list, axis=1)\n",
    "accidents_df.shape"
   ]
  },
  {
   "cell_type": "markdown",
   "metadata": {},
   "source": [
    "### Dealing with nulls"
   ]
  },
  {
   "cell_type": "code",
   "execution_count": 7,
   "metadata": {},
   "outputs": [
    {
     "data": {
      "text/plain": [
       "Accident_Index                0.000000\n",
       "Location_Easting_OSGR         0.000077\n",
       "Location_Northing_OSGR        0.000077\n",
       "Longitude                     0.000091\n",
       "Latitude                      0.000091\n",
       "Accident_Severity             0.000000\n",
       "Number_of_Vehicles            0.000000\n",
       "Number_of_Casualties          0.000000\n",
       "Date                          0.000000\n",
       "Day_of_Week                   0.000000\n",
       "Time                          0.000045\n",
       "1st_Road_Class                0.000000\n",
       "Road_Type                     0.000000\n",
       "Speed_limit                   0.000053\n",
       "Junction_Detail               0.000000\n",
       "Junction_Control              0.000000\n",
       "2nd_Road_Class                0.000000\n",
       "Light_Conditions              0.000000\n",
       "Weather_Conditions            0.000000\n",
       "Road_Surface_Conditions       0.000000\n",
       "Special_Conditions_at_Site    0.000000\n",
       "Carriageway_Hazards           0.000000\n",
       "Urban_or_Rural_Area           0.000000\n",
       "LSOA_of_Accident_Location     0.062778\n",
       "dtype: float64"
      ]
     },
     "execution_count": 7,
     "metadata": {},
     "output_type": "execute_result"
    }
   ],
   "source": [
    "accidents_df.isna().sum()/len(accidents_df)"
   ]
  },
  {
   "cell_type": "code",
   "execution_count": 8,
   "metadata": {},
   "outputs": [],
   "source": [
    "# For Speed_limit replace NaNs with median value\n",
    "accidents_df.Speed_limit.fillna(accidents_df.Speed_limit.median(), inplace=True)"
   ]
  },
  {
   "cell_type": "markdown",
   "metadata": {},
   "source": [
    "### Correcting dtypes and labels\n",
    "A lot of the data uses numerical labeling, so majority of the cleaning will be checking these datatypes and assinging the correct labels according to the data dictionary."
   ]
  },
  {
   "cell_type": "code",
   "execution_count": 9,
   "metadata": {},
   "outputs": [
    {
     "data": {
      "text/plain": [
       "3    0.836837\n",
       "2    0.151230\n",
       "1    0.011932\n",
       "Name: Accident_Severity, dtype: float64"
      ]
     },
     "execution_count": 9,
     "metadata": {},
     "output_type": "execute_result"
    }
   ],
   "source": [
    "accidents_df.Accident_Severity.value_counts(normalize=True)"
   ]
  },
  {
   "cell_type": "code",
   "execution_count": 10,
   "metadata": {},
   "outputs": [],
   "source": [
    "# Change values to listed meanings\n",
    "accidents_df.Accident_Severity = accidents_df.Accident_Severity.replace([1,2,3], ['Fatal', 'Serious', 'Slight'])"
   ]
  },
  {
   "cell_type": "code",
   "execution_count": 11,
   "metadata": {},
   "outputs": [],
   "source": [
    "# Change Date to datetime\n",
    "accidents_df['Date'] = pd.to_datetime(accidents_df['Date'], format='%d/%m/%Y')"
   ]
  },
  {
   "cell_type": "code",
   "execution_count": 12,
   "metadata": {},
   "outputs": [],
   "source": [
    "# Take just hour from Time string and convert to datetime\n",
    "# Can possibly label the times into groups later\n",
    "accidents_df['Hour'] = pd.to_datetime(accidents_df['Time'], format='%H:%M').dt.hour"
   ]
  },
  {
   "cell_type": "code",
   "execution_count": 13,
   "metadata": {},
   "outputs": [],
   "source": [
    "accidents_df = accidents_df.drop('Time', axis=1)"
   ]
  },
  {
   "cell_type": "code",
   "execution_count": 14,
   "metadata": {},
   "outputs": [],
   "source": [
    "accidents_df.Hour.fillna(accidents_df.Hour.median(), inplace=True)"
   ]
  },
  {
   "cell_type": "code",
   "execution_count": 15,
   "metadata": {},
   "outputs": [],
   "source": [
    "accidents_df.Hour = accidents_df.Hour.astype('int')"
   ]
  },
  {
   "cell_type": "code",
   "execution_count": 16,
   "metadata": {},
   "outputs": [],
   "source": [
    "def two_hour_groupings(hour):\n",
    "    '''Creates two hour bins from Hour column'''\n",
    "    if hour >= 0 and hour < 2:\n",
    "        return '12am-2am'\n",
    "    if hour >= 2 and hour < 4:\n",
    "        return '2am-4am'\n",
    "    if hour >= 4 and hour < 6:\n",
    "        return '4am-6am'\n",
    "    if hour >= 6 and hour < 8:\n",
    "        return '6am-8am'\n",
    "    if hour >= 8 and hour < 10:\n",
    "        return '8am-10am'\n",
    "    if hour >= 10 and hour < 12:\n",
    "        return '10am-12pm'\n",
    "    if hour >= 12 and hour < 14:\n",
    "        return '12pm-2pm'\n",
    "    if hour >= 14 and hour < 16:\n",
    "        return '2pm-4pm'\n",
    "    if hour >= 16 and hour < 18:\n",
    "        return '4pm-6pm'\n",
    "    if hour >= 18 and hour < 20:\n",
    "        return '6pm-8pm'\n",
    "    if hour >= 20 and hour < 22:\n",
    "        return '8pm-10pm'\n",
    "    if hour >= 22 and hour < 24:\n",
    "        return '10pm-12am'"
   ]
  },
  {
   "cell_type": "code",
   "execution_count": 17,
   "metadata": {},
   "outputs": [],
   "source": [
    "# apply function (probably drop Hour later before modeling)\n",
    "accidents_df['Two_Hour_Groupings'] = accidents_df['Hour'].apply(two_hour_groupings)"
   ]
  },
  {
   "cell_type": "markdown",
   "metadata": {},
   "source": [
    "I kept the below function for possibly looking at during EDA"
   ]
  },
  {
   "cell_type": "code",
   "execution_count": 18,
   "metadata": {},
   "outputs": [],
   "source": [
    "# Use function to group house into Time_of_Day\n",
    "def Hour_to_groups(hour):\n",
    "    if hour >= 5 and hour < 10:\n",
    "        return 'Morning'\n",
    "    elif hour >= 10 and hour < 15:\n",
    "        return 'Office hours'\n",
    "    elif hour >= 15 and hour < 19:\n",
    "        return 'Rush hour'\n",
    "    elif hour >= 19 and hour < 23:\n",
    "        return 'Evening'\n",
    "    else:\n",
    "        return 'Night'"
   ]
  },
  {
   "cell_type": "code",
   "execution_count": 19,
   "metadata": {},
   "outputs": [],
   "source": [
    "# apply function (probably drop Hour later before modeling)\n",
    "accidents_df['Time_of_Day'] = accidents_df['Hour'].apply(Hour_to_groups)"
   ]
  },
  {
   "cell_type": "code",
   "execution_count": 20,
   "metadata": {},
   "outputs": [
    {
     "data": {
      "text/plain": [
       "6    0.163672\n",
       "5    0.152089\n",
       "3    0.151223\n",
       "4    0.150698\n",
       "2    0.141935\n",
       "7    0.130423\n",
       "1    0.109960\n",
       "Name: Day_of_Week, dtype: float64"
      ]
     },
     "execution_count": 20,
     "metadata": {},
     "output_type": "execute_result"
    }
   ],
   "source": [
    "accidents_df.Day_of_Week.value_counts(normalize=True)"
   ]
  },
  {
   "cell_type": "code",
   "execution_count": 21,
   "metadata": {},
   "outputs": [],
   "source": [
    "# Change Day_of_Week from int to object\n",
    "accidents_df.Day_of_Week = accidents_df.Day_of_Week.replace([1,2,3,4,5,6,7], \n",
    "                                 ['Sunday', 'Monday', 'Tuesday', 'Wednesday', 'Thursday', 'Friday', 'Saturday'])"
   ]
  },
  {
   "cell_type": "code",
   "execution_count": 22,
   "metadata": {},
   "outputs": [
    {
     "data": {
      "text/plain": [
       "3    0.454639\n",
       "6    0.306250\n",
       "4    0.123197\n",
       "5    0.077224\n",
       "1    0.035877\n",
       "2    0.002814\n",
       "Name: 1st_Road_Class, dtype: float64"
      ]
     },
     "execution_count": 22,
     "metadata": {},
     "output_type": "execute_result"
    }
   ],
   "source": [
    "accidents_df['1st_Road_Class'].value_counts(normalize=True)"
   ]
  },
  {
   "cell_type": "code",
   "execution_count": 23,
   "metadata": {},
   "outputs": [
    {
     "data": {
      "text/plain": [
       "A               0.454639\n",
       "Unclassified    0.306250\n",
       "B               0.123197\n",
       "C               0.077224\n",
       "Motorway        0.038691\n",
       "Name: 1st_Road_Class, dtype: float64"
      ]
     },
     "execution_count": 23,
     "metadata": {},
     "output_type": "execute_result"
    }
   ],
   "source": [
    "accidents_df['1st_Road_Class'] = accidents_df['1st_Road_Class'].replace([1,2,3,4,5,6], \n",
    "                                                                        ['Motorway', 'A(M)', 'A', 'B', \n",
    "                                                                         'C', 'Unclassified'])\n",
    "# Combining A(M) (motorway sections of A roads) into the motorway category\n",
    "accidents_df['1st_Road_Class'] = accidents_df['1st_Road_Class'].replace('A(M)', 'Motorway')\n",
    "accidents_df['1st_Road_Class'].value_counts(normalize=True)"
   ]
  },
  {
   "cell_type": "code",
   "execution_count": 24,
   "metadata": {},
   "outputs": [
    {
     "data": {
      "text/plain": [
       " 6    0.745468\n",
       " 3    0.146459\n",
       " 1    0.067383\n",
       " 2    0.021767\n",
       " 7    0.010601\n",
       " 9    0.008321\n",
       "-1    0.000001\n",
       "Name: Road_Type, dtype: float64"
      ]
     },
     "execution_count": 24,
     "metadata": {},
     "output_type": "execute_result"
    }
   ],
   "source": [
    "accidents_df.Road_Type.value_counts(normalize=True)"
   ]
  },
  {
   "cell_type": "code",
   "execution_count": 25,
   "metadata": {},
   "outputs": [
    {
     "data": {
      "text/plain": [
       "Single carriageway    0.753790\n",
       "Dual carriageway      0.146459\n",
       "Roundabout            0.067383\n",
       "One way street        0.021767\n",
       "Slip road             0.010601\n",
       "Name: Road_Type, dtype: float64"
      ]
     },
     "execution_count": 25,
     "metadata": {},
     "output_type": "execute_result"
    }
   ],
   "source": [
    "# Change Road_Type to proper labels\n",
    "# Rather than dropping added unknown(9) and missing data(-1) to the mode ('Single carriageway')\n",
    "accidents_df.Road_Type = accidents_df.Road_Type.replace([1,2,3,6,7,9,-1], \n",
    "                               ['Roundabout', 'One way street', 'Dual carriageway', 'Single carriageway', \n",
    "                                'Slip road', 'Single carriageway', 'Single carriageway'])\n",
    "accidents_df.Road_Type.value_counts(normalize=True)"
   ]
  },
  {
   "cell_type": "code",
   "execution_count": 26,
   "metadata": {},
   "outputs": [
    {
     "data": {
      "text/plain": [
       " 0    0.401522\n",
       " 3    0.316150\n",
       " 6    0.097717\n",
       " 1    0.087626\n",
       " 8    0.034965\n",
       " 9    0.025311\n",
       " 5    0.014574\n",
       " 2    0.012800\n",
       " 7    0.008289\n",
       "-1    0.001047\n",
       "Name: Junction_Detail, dtype: float64"
      ]
     },
     "execution_count": 26,
     "metadata": {},
     "output_type": "execute_result"
    }
   ],
   "source": [
    "accidents_df.Junction_Detail.value_counts(normalize=True)"
   ]
  },
  {
   "cell_type": "code",
   "execution_count": 27,
   "metadata": {},
   "outputs": [
    {
     "data": {
      "text/plain": [
       "Not at junction or within 20 meters    0.402569\n",
       "T or staggered junction                0.316150\n",
       "Crossroads                             0.097717\n",
       "Roundabout                             0.087626\n",
       "Private drive or entrance              0.034965\n",
       "Other junction                         0.025311\n",
       "Slip road                              0.014574\n",
       "Mini-roundabout                        0.012800\n",
       "More than 4 arms (not roundabout)      0.008289\n",
       "Name: Junction_Detail, dtype: float64"
      ]
     },
     "execution_count": 27,
     "metadata": {},
     "output_type": "execute_result"
    }
   ],
   "source": [
    "# Change Junction_Detail to proper labels\n",
    "# Rather than dropping added missing data(-1) to the mode (Not at junction or within 20 meters)\n",
    "accidents_df.Junction_Detail = accidents_df.Junction_Detail.replace([0,1,2,3,5,6,7,8,9,-1], \n",
    "                                                                    ['Not at junction or within 20 meters', \n",
    "                                                                     'Roundabout', 'Mini-roundabout', \n",
    "                                                                     'T or staggered junction', 'Slip road', \n",
    "                                                                     'Crossroads', \n",
    "                                                                     'More than 4 arms (not roundabout)', \n",
    "                                                                     'Private drive or entrance', 'Other junction', \n",
    "                                                                     'Not at junction or within 20 meters'])\n",
    "accidents_df.Junction_Detail.value_counts(normalize=True)"
   ]
  },
  {
   "cell_type": "code",
   "execution_count": 28,
   "metadata": {},
   "outputs": [
    {
     "data": {
      "text/plain": [
       " 4    0.482139\n",
       "-1    0.405216\n",
       " 2    0.105125\n",
       " 3    0.005081\n",
       " 1    0.001878\n",
       " 0    0.000561\n",
       "Name: Junction_Control, dtype: float64"
      ]
     },
     "execution_count": 28,
     "metadata": {},
     "output_type": "execute_result"
    }
   ],
   "source": [
    "accidents_df.Junction_Control.value_counts(normalize=True)"
   ]
  },
  {
   "cell_type": "code",
   "execution_count": 29,
   "metadata": {},
   "outputs": [
    {
     "data": {
      "text/plain": [
       "Give way or uncontrolled               0.482139\n",
       "Data missing or out of range           0.405216\n",
       "Auto traffic signal                    0.105125\n",
       "Stop sign                              0.005081\n",
       "Authorised person                      0.001878\n",
       "Not at junction or within 20 metres    0.000561\n",
       "Name: Junction_Control, dtype: float64"
      ]
     },
     "execution_count": 29,
     "metadata": {},
     "output_type": "execute_result"
    }
   ],
   "source": [
    "# Change Junction_Control to proper labels\n",
    "accidents_df.Junction_Control = accidents_df.Junction_Control.replace([0,1,2,3,4,-1], \n",
    "                                                                      ['Not at junction or within 20 metres', \n",
    "                                                                       'Authorised person', 'Auto traffic signal', \n",
    "                                                                       'Stop sign', 'Give way or uncontrolled', \n",
    "                                                                       'Data missing or out of range'])\n",
    "accidents_df.Junction_Control.value_counts(normalize=True)"
   ]
  },
  {
   "cell_type": "code",
   "execution_count": 30,
   "metadata": {},
   "outputs": [],
   "source": [
    "# Drop Junction_Control because majority of the feature data is missing\n",
    "accidents_df = accidents_df.drop('Junction_Control', axis=1)"
   ]
  },
  {
   "cell_type": "code",
   "execution_count": 31,
   "metadata": {},
   "outputs": [
    {
     "data": {
      "text/plain": [
       " 6    0.406821\n",
       "-1    0.406115\n",
       " 3    0.098274\n",
       " 5    0.042593\n",
       " 4    0.039237\n",
       " 1    0.006246\n",
       " 2    0.000714\n",
       "Name: 2nd_Road_Class, dtype: float64"
      ]
     },
     "execution_count": 31,
     "metadata": {},
     "output_type": "execute_result"
    }
   ],
   "source": [
    "accidents_df['2nd_Road_Class'].value_counts(normalize=True)"
   ]
  },
  {
   "cell_type": "code",
   "execution_count": 32,
   "metadata": {},
   "outputs": [
    {
     "data": {
      "text/plain": [
       "Unclassified                           0.406821\n",
       "Not at junction or within 20 meters    0.406115\n",
       "A                                      0.098274\n",
       "C                                      0.042593\n",
       "B                                      0.039237\n",
       "Motorway                               0.006960\n",
       "Name: 2nd_Road_Class, dtype: float64"
      ]
     },
     "execution_count": 32,
     "metadata": {},
     "output_type": "execute_result"
    }
   ],
   "source": [
    "# Change 2nd_Road_Class to proper labels\n",
    "accidents_df['2nd_Road_Class'] = accidents_df['2nd_Road_Class'].replace([1,2,3,4,5,6,-1], \n",
    "                                                                        ['Motorway', 'A(M)', 'A', 'B', 'C', \n",
    "                                                                         'Unclassified', \n",
    "                                                                         'Not at junction or within 20 meters'])\n",
    "# Combining A(M) (motorway sections of A roads) into the motorway category\n",
    "accidents_df['2nd_Road_Class'] = accidents_df['2nd_Road_Class'].replace('A(M)', 'Motorway')\n",
    "accidents_df['2nd_Road_Class'].value_counts(normalize=True)"
   ]
  },
  {
   "cell_type": "code",
   "execution_count": 33,
   "metadata": {},
   "outputs": [
    {
     "data": {
      "text/plain": [
       " 1    0.728686\n",
       " 4    0.198545\n",
       " 6    0.051253\n",
       " 7    0.015485\n",
       " 5    0.006010\n",
       "-1    0.000020\n",
       "Name: Light_Conditions, dtype: float64"
      ]
     },
     "execution_count": 33,
     "metadata": {},
     "output_type": "execute_result"
    }
   ],
   "source": [
    "accidents_df.Light_Conditions.value_counts(normalize=True)"
   ]
  },
  {
   "cell_type": "code",
   "execution_count": 34,
   "metadata": {},
   "outputs": [
    {
     "data": {
      "text/plain": [
       "Daylight                       0.728706\n",
       "Darkness - lights lit          0.198545\n",
       "Darkness - no lighting         0.051253\n",
       "Darkness - lighting unknown    0.015485\n",
       "Darkness - lights unlit        0.006010\n",
       "Name: Light_Conditions, dtype: float64"
      ]
     },
     "execution_count": 34,
     "metadata": {},
     "output_type": "execute_result"
    }
   ],
   "source": [
    "# Change Light_Conditions to proper labels\n",
    "# Add missing data(-1) to mode (Daylight)\n",
    "accidents_df.Light_Conditions = accidents_df.Light_Conditions.replace([1,4,5,6,7,-1], \n",
    "                                                      ['Daylight', \n",
    "                                                       'Darkness - lights lit', \n",
    "                                                       'Darkness - lights unlit', \n",
    "                                                       'Darkness - no lighting', \n",
    "                                                       'Darkness - lighting unknown', \n",
    "                                                       'Daylight'])\n",
    "\n",
    "accidents_df.Light_Conditions.value_counts(normalize=True)"
   ]
  },
  {
   "cell_type": "code",
   "execution_count": 35,
   "metadata": {},
   "outputs": [
    {
     "data": {
      "text/plain": [
       " 1    0.812651\n",
       " 2    0.110719\n",
       " 9    0.022883\n",
       " 8    0.016841\n",
       " 5    0.013507\n",
       " 4    0.012032\n",
       " 3    0.005047\n",
       " 7    0.004920\n",
       " 6    0.001378\n",
       "-1    0.000020\n",
       "Name: Weather_Conditions, dtype: float64"
      ]
     },
     "execution_count": 35,
     "metadata": {},
     "output_type": "execute_result"
    }
   ],
   "source": [
    "accidents_df.Weather_Conditions.value_counts(normalize=True)"
   ]
  },
  {
   "cell_type": "code",
   "execution_count": 36,
   "metadata": {},
   "outputs": [
    {
     "data": {
      "text/plain": [
       "Fine no high winds       0.835555\n",
       "Raining no high winds    0.110719\n",
       "Other                    0.016841\n",
       "Raining + high winds     0.013507\n",
       "Fine + high winds        0.012032\n",
       "Snowing no high winds    0.005047\n",
       "Fog or mist              0.004920\n",
       "Snowing + high winds     0.001378\n",
       "Name: Weather_Conditions, dtype: float64"
      ]
     },
     "execution_count": 36,
     "metadata": {},
     "output_type": "execute_result"
    }
   ],
   "source": [
    "# Change Weather_Conditions to proper labels\n",
    "# Add unknown(9) and missing data(-1) to mode (Fine no high winds)\n",
    "accidents_df.Weather_Conditions = accidents_df.Weather_Conditions.replace([1,2,3,4,5,6,7,8,9,-1], \n",
    "                                                                ['Fine no high winds', \n",
    "                                                                 'Raining no high winds', \n",
    "                                                                 'Snowing no high winds', \n",
    "                                                                 'Fine + high winds', \n",
    "                                                                 'Raining + high winds', \n",
    "                                                                 'Snowing + high winds', \n",
    "                                                                 'Fog or mist', 'Other', 'Fine no high winds', \n",
    "                                                                 'Fine no high winds'])\n",
    "accidents_df.Weather_Conditions.value_counts(normalize=True)"
   ]
  },
  {
   "cell_type": "code",
   "execution_count": 37,
   "metadata": {},
   "outputs": [
    {
     "data": {
      "text/plain": [
       " 1    0.711846\n",
       " 2    0.262678\n",
       " 4    0.014380\n",
       "-1    0.005018\n",
       " 3    0.004780\n",
       " 5    0.001297\n",
       "Name: Road_Surface_Conditions, dtype: float64"
      ]
     },
     "execution_count": 37,
     "metadata": {},
     "output_type": "execute_result"
    }
   ],
   "source": [
    "accidents_df.Road_Surface_Conditions.value_counts(normalize=True)"
   ]
  },
  {
   "cell_type": "code",
   "execution_count": 38,
   "metadata": {},
   "outputs": [
    {
     "data": {
      "text/plain": [
       "Dry                     0.716865\n",
       "Wet or damp             0.262678\n",
       "Frost or ice            0.014380\n",
       "Snow                    0.004780\n",
       "Flood over 3cm. deep    0.001297\n",
       "Name: Road_Surface_Conditions, dtype: float64"
      ]
     },
     "execution_count": 38,
     "metadata": {},
     "output_type": "execute_result"
    }
   ],
   "source": [
    "# Change Road_Surface_Conditions to proper labels\n",
    "# Add missing data(-1) to mode (Dry)\n",
    "accidents_df.Road_Surface_Conditions = accidents_df.Road_Surface_Conditions.replace([1,2,3,4,5,-1], \n",
    "                                                                                    ['Dry', \n",
    "                                                                                     'Wet or damp', \n",
    "                                                                                     'Snow', \n",
    "                                                                                     'Frost or ice', \n",
    "                                                                                     'Flood over 3cm. deep', \n",
    "                                                                                     'Dry'])\n",
    "accidents_df.Road_Surface_Conditions.value_counts(normalize=True)"
   ]
  },
  {
   "cell_type": "code",
   "execution_count": 39,
   "metadata": {},
   "outputs": [
    {
     "data": {
      "text/plain": [
       " 0    0.974209\n",
       " 4    0.010630\n",
       "-1    0.004074\n",
       " 7    0.002822\n",
       " 6    0.002568\n",
       " 5    0.002251\n",
       " 1    0.001822\n",
       " 3    0.001229\n",
       " 2    0.000395\n",
       "Name: Special_Conditions_at_Site, dtype: float64"
      ]
     },
     "execution_count": 39,
     "metadata": {},
     "output_type": "execute_result"
    }
   ],
   "source": [
    "accidents_df.Special_Conditions_at_Site.value_counts(normalize=True)"
   ]
  },
  {
   "cell_type": "code",
   "execution_count": 40,
   "metadata": {},
   "outputs": [
    {
     "data": {
      "text/plain": [
       "None                                          0.978284\n",
       "Roadworks                                     0.010630\n",
       "Mud                                           0.002822\n",
       "Oil or diesel                                 0.002568\n",
       "Road surface defective                        0.002251\n",
       "Auto traffic singal - out                     0.001822\n",
       "Road sign or marking defective or obscured    0.001229\n",
       "Auto signal part defective                    0.000395\n",
       "Name: Special_Conditions_at_Site, dtype: float64"
      ]
     },
     "execution_count": 40,
     "metadata": {},
     "output_type": "execute_result"
    }
   ],
   "source": [
    "# Change Special_Conditions_at_Site to proper labels\n",
    "# Add missing data (-1) to mode (None)\n",
    "accidents_df.Special_Conditions_at_Site = \\\n",
    "accidents_df.Special_Conditions_at_Site.replace([0,1,2,3,4,5,6,7,-1],  \n",
    "                                                ['None', 'Auto traffic singal - out', \n",
    "                                                 'Auto signal part defective', \n",
    "                                                 'Road sign or marking defective or obscured', \n",
    "                                                 'Roadworks', 'Road surface defective', \n",
    "                                                 'Oil or diesel', 'Mud', 'None'])\n",
    "\n",
    "accidents_df.Special_Conditions_at_Site.value_counts(normalize=True)"
   ]
  },
  {
   "cell_type": "code",
   "execution_count": 41,
   "metadata": {},
   "outputs": [
    {
     "data": {
      "text/plain": [
       " 0    0.979288\n",
       " 2    0.007258\n",
       " 7    0.004437\n",
       "-1    0.003928\n",
       " 6    0.002380\n",
       " 3    0.001413\n",
       " 1    0.001295\n",
       "Name: Carriageway_Hazards, dtype: float64"
      ]
     },
     "execution_count": 41,
     "metadata": {},
     "output_type": "execute_result"
    }
   ],
   "source": [
    "accidents_df.Carriageway_Hazards.value_counts(normalize=True)"
   ]
  },
  {
   "cell_type": "code",
   "execution_count": 42,
   "metadata": {},
   "outputs": [
    {
     "data": {
      "text/plain": [
       "None                                               0.983217\n",
       "Other object on road                               0.007258\n",
       "Any animal in carriageway (except ridden horse)    0.004437\n",
       "Pedestrian in carriageway - not injured            0.002380\n",
       "Previous accident                                  0.001413\n",
       "Vehicle load on road                               0.001295\n",
       "Name: Carriageway_Hazards, dtype: float64"
      ]
     },
     "execution_count": 42,
     "metadata": {},
     "output_type": "execute_result"
    }
   ],
   "source": [
    "# Change Carriageway_Hazards to proper labels\n",
    "# Add missing data(-1) to mode (None)\n",
    "accidents_df.Carriageway_Hazards = \\\n",
    "accidents_df.Carriageway_Hazards.replace([0,1,2,3,6,7,-1],  \n",
    "                                                ['None', 'Vehicle load on road', \n",
    "                                                 'Other object on road', \n",
    "                                                 'Previous accident',  \n",
    "                                                 'Pedestrian in carriageway - not injured', \n",
    "                                                 'Any animal in carriageway (except ridden horse)', \n",
    "                                                 'None'])\n",
    "\n",
    "accidents_df.Carriageway_Hazards.value_counts(normalize=True)"
   ]
  },
  {
   "cell_type": "code",
   "execution_count": 43,
   "metadata": {},
   "outputs": [
    {
     "data": {
      "text/plain": [
       "1    0.656437\n",
       "2    0.343538\n",
       "3    0.000025\n",
       "Name: Urban_or_Rural_Area, dtype: float64"
      ]
     },
     "execution_count": 43,
     "metadata": {},
     "output_type": "execute_result"
    }
   ],
   "source": [
    "accidents_df.Urban_or_Rural_Area.value_counts(normalize=True)"
   ]
  },
  {
   "cell_type": "code",
   "execution_count": 44,
   "metadata": {},
   "outputs": [
    {
     "data": {
      "text/plain": [
       "Urban    0.656462\n",
       "Rural    0.343538\n",
       "Name: Urban_or_Rural_Area, dtype: float64"
      ]
     },
     "execution_count": 44,
     "metadata": {},
     "output_type": "execute_result"
    }
   ],
   "source": [
    "# Change Urban_or_Rural_Area to proper labels\n",
    "# Add unallocated (3) to mode (Urban)\n",
    "accidents_df.Urban_or_Rural_Area = accidents_df.Urban_or_Rural_Area.replace([1,2,3], ['Urban', 'Rural', 'Urban'])\n",
    "accidents_df.Urban_or_Rural_Area.value_counts(normalize=True)"
   ]
  },
  {
   "cell_type": "code",
   "execution_count": 45,
   "metadata": {},
   "outputs": [],
   "source": [
    "# Rest of the rows with missing values are small enough to drop\n",
    "# Also are from features that wouldn't make sense to impute with another value\n",
    "accidents_df = accidents_df.dropna()"
   ]
  },
  {
   "cell_type": "code",
   "execution_count": 46,
   "metadata": {},
   "outputs": [
    {
     "data": {
      "text/plain": [
       "{dtype('int64'): Index(['Number_of_Vehicles', 'Number_of_Casualties', 'Hour'], dtype='object'),\n",
       " dtype('float64'): Index(['Location_Easting_OSGR', 'Location_Northing_OSGR', 'Longitude',\n",
       "        'Latitude', 'Speed_limit'],\n",
       "       dtype='object'),\n",
       " dtype('<M8[ns]'): Index(['Date'], dtype='object'),\n",
       " dtype('O'): Index(['Accident_Index', 'Accident_Severity', 'Day_of_Week', '1st_Road_Class',\n",
       "        'Road_Type', 'Junction_Detail', '2nd_Road_Class', 'Light_Conditions',\n",
       "        'Weather_Conditions', 'Road_Surface_Conditions',\n",
       "        'Special_Conditions_at_Site', 'Carriageway_Hazards',\n",
       "        'Urban_or_Rural_Area', 'LSOA_of_Accident_Location',\n",
       "        'Two_Hour_Groupings', 'Time_of_Day'],\n",
       "       dtype='object')}"
      ]
     },
     "execution_count": 46,
     "metadata": {},
     "output_type": "execute_result"
    }
   ],
   "source": [
    "accidents_df.columns.groupby(accidents_df.dtypes)"
   ]
  },
  {
   "cell_type": "markdown",
   "metadata": {},
   "source": [
    "### Further Feature Selection \n",
    "Now will plot the categorical features to see if there are any that are heavily imbalanced that can be dropped."
   ]
  },
  {
   "cell_type": "code",
   "execution_count": 47,
   "metadata": {},
   "outputs": [
    {
     "data": {
      "image/png": "[encoded data removed]",
      "text/plain": [
       "<Figure size 1080x864 with 13 Axes>"
      ]
     },
     "metadata": {
      "needs_background": "light"
     },
     "output_type": "display_data"
    }
   ],
   "source": [
    "fig = plt.figure(figsize=(15,12))\n",
    "ax1 = plt.subplot(441)\n",
    "sns.countplot(accidents_df['Accident_Severity'])\n",
    "ax2 = plt.subplot(442)\n",
    "sns.countplot(accidents_df['Day_of_Week'])\n",
    "ax3 = plt.subplot(443)\n",
    "sns.countplot(accidents_df['1st_Road_Class'])\n",
    "ax4 = plt.subplot(444)\n",
    "sns.countplot(accidents_df['Road_Type'])\n",
    "ax5 = plt.subplot(445)\n",
    "sns.countplot(accidents_df['Junction_Detail'])\n",
    "ax6 = plt.subplot(446)\n",
    "sns.countplot(accidents_df['2nd_Road_Class'])\n",
    "ax7 = plt.subplot(447)\n",
    "sns.countplot(accidents_df['Light_Conditions'])\n",
    "ax8 = plt.subplot(448)\n",
    "sns.countplot(accidents_df['Weather_Conditions'])\n",
    "ax9 = plt.subplot(449)\n",
    "sns.countplot(accidents_df['Road_Surface_Conditions'])\n",
    "ax10 = plt.subplot(4,4,10)\n",
    "sns.countplot(accidents_df['Special_Conditions_at_Site'])\n",
    "ax11 = plt.subplot(4,4,11)\n",
    "sns.countplot(accidents_df['Carriageway_Hazards'])\n",
    "ax12 = plt.subplot(4,4,12)\n",
    "sns.countplot(accidents_df['Urban_or_Rural_Area'])\n",
    "ax13 = plt.subplot(4,4,13)\n",
    "sns.countplot(accidents_df['Time_of_Day'])\n",
    "plt.tight_layout()\n",
    "plt.show()"
   ]
  },
  {
   "cell_type": "markdown",
   "metadata": {},
   "source": [
    "Drop `Special_Conditions_at_Site` and `Carriageway_Hazards` due to one dominant label."
   ]
  },
  {
   "cell_type": "code",
   "execution_count": 48,
   "metadata": {},
   "outputs": [],
   "source": [
    "accidents_df = accidents_df.drop(columns=['Special_Conditions_at_Site', 'Carriageway_Hazards'])"
   ]
  },
  {
   "cell_type": "markdown",
   "metadata": {},
   "source": [
    "Also possibly change `Light_Conditions`, `Weather_Conditions`, and `Road_Surface_Conditions` to binary (might have to drop one since they are possibly collinear to each other)."
   ]
  },
  {
   "cell_type": "code",
   "execution_count": 49,
   "metadata": {},
   "outputs": [
    {
     "data": {
      "text/plain": [
       "Daylight                       0.727956\n",
       "Darkness - lights lit          0.200164\n",
       "Darkness - no lighting         0.049813\n",
       "Darkness - lighting unknown    0.016103\n",
       "Darkness - lights unlit        0.005964\n",
       "Name: Light_Conditions, dtype: float64"
      ]
     },
     "execution_count": 49,
     "metadata": {},
     "output_type": "execute_result"
    }
   ],
   "source": [
    "accidents_df.Light_Conditions.value_counts(normalize=True)"
   ]
  },
  {
   "cell_type": "markdown",
   "metadata": {},
   "source": [
    "The below functions will be used to combine minority classes for features that are imbalanced. "
   ]
  },
  {
   "cell_type": "code",
   "execution_count": 50,
   "metadata": {},
   "outputs": [],
   "source": [
    "def was_daylight(condition):\n",
    "    if condition == 'Daylight':\n",
    "        return 'Yes'\n",
    "    else:\n",
    "        return 'No'"
   ]
  },
  {
   "cell_type": "code",
   "execution_count": 51,
   "metadata": {},
   "outputs": [],
   "source": [
    "accidents_df['Was_Daylight'] = accidents_df['Light_Conditions'].apply(was_daylight)"
   ]
  },
  {
   "cell_type": "code",
   "execution_count": 52,
   "metadata": {},
   "outputs": [
    {
     "data": {
      "text/plain": [
       "Fine no high winds       0.840448\n",
       "Raining no high winds    0.107624\n",
       "Other                    0.016843\n",
       "Raining + high winds     0.012683\n",
       "Fine + high winds        0.011700\n",
       "Fog or mist              0.004983\n",
       "Snowing no high winds    0.004566\n",
       "Snowing + high winds     0.001152\n",
       "Name: Weather_Conditions, dtype: float64"
      ]
     },
     "execution_count": 52,
     "metadata": {},
     "output_type": "execute_result"
    }
   ],
   "source": [
    "accidents_df.Weather_Conditions.value_counts(normalize=True)"
   ]
  },
  {
   "cell_type": "code",
   "execution_count": 53,
   "metadata": {},
   "outputs": [],
   "source": [
    "def was_bad_weather(condition):\n",
    "    if condition == 'Fine no high winds':\n",
    "        return 'No'\n",
    "    else:\n",
    "        return 'Yes'"
   ]
  },
  {
   "cell_type": "code",
   "execution_count": 54,
   "metadata": {},
   "outputs": [],
   "source": [
    "accidents_df['Was_Bad_Weather'] = accidents_df['Weather_Conditions'].apply(was_bad_weather)"
   ]
  },
  {
   "cell_type": "code",
   "execution_count": 55,
   "metadata": {},
   "outputs": [
    {
     "data": {
      "text/plain": [
       "Dry                     0.724585\n",
       "Wet or damp             0.256415\n",
       "Frost or ice            0.013635\n",
       "Snow                    0.004179\n",
       "Flood over 3cm. deep    0.001186\n",
       "Name: Road_Surface_Conditions, dtype: float64"
      ]
     },
     "execution_count": 55,
     "metadata": {},
     "output_type": "execute_result"
    }
   ],
   "source": [
    "accidents_df.Road_Surface_Conditions.value_counts(normalize=True)"
   ]
  },
  {
   "cell_type": "code",
   "execution_count": 56,
   "metadata": {},
   "outputs": [],
   "source": [
    "def was_road_dry(condition):\n",
    "    if condition == 'Dry':\n",
    "        return 'Yes'\n",
    "    else:\n",
    "        return 'No'"
   ]
  },
  {
   "cell_type": "code",
   "execution_count": 57,
   "metadata": {},
   "outputs": [],
   "source": [
    "accidents_df['Was_Road_Dry'] = accidents_df['Road_Surface_Conditions'].apply(was_road_dry)"
   ]
  },
  {
   "cell_type": "code",
   "execution_count": 58,
   "metadata": {},
   "outputs": [
    {
     "data": {
      "text/html": [
       "<div>\n",
       "<style scoped>\n",
       "    .dataframe tbody tr th:only-of-type {\n",
       "        vertical-align: middle;\n",
       "    }\n",
       "\n",
       "    .dataframe tbody tr th {\n",
       "        vertical-align: top;\n",
       "    }\n",
       "\n",
       "    .dataframe thead th {\n",
       "        text-align: right;\n",
       "    }\n",
       "</style>\n",
       "<table border=\"1\" class=\"dataframe\">\n",
       "  <thead>\n",
       "    <tr style=\"text-align: right;\">\n",
       "      <th></th>\n",
       "      <th>count</th>\n",
       "      <th>mean</th>\n",
       "      <th>std</th>\n",
       "      <th>min</th>\n",
       "      <th>25%</th>\n",
       "      <th>50%</th>\n",
       "      <th>75%</th>\n",
       "      <th>max</th>\n",
       "    </tr>\n",
       "  </thead>\n",
       "  <tbody>\n",
       "    <tr>\n",
       "      <th>Location_Easting_OSGR</th>\n",
       "      <td>648208.0</td>\n",
       "      <td>457684.471736</td>\n",
       "      <td>88611.341073</td>\n",
       "      <td>90185.000000</td>\n",
       "      <td>398206.750000</td>\n",
       "      <td>459530.500000</td>\n",
       "      <td>528820.000000</td>\n",
       "      <td>655391.000000</td>\n",
       "    </tr>\n",
       "    <tr>\n",
       "      <th>Location_Northing_OSGR</th>\n",
       "      <td>648208.0</td>\n",
       "      <td>263312.280412</td>\n",
       "      <td>122443.236168</td>\n",
       "      <td>10290.000000</td>\n",
       "      <td>174840.000000</td>\n",
       "      <td>217436.000000</td>\n",
       "      <td>366841.250000</td>\n",
       "      <td>656404.000000</td>\n",
       "    </tr>\n",
       "    <tr>\n",
       "      <th>Longitude</th>\n",
       "      <td>648208.0</td>\n",
       "      <td>-1.164207</td>\n",
       "      <td>1.282775</td>\n",
       "      <td>-6.317417</td>\n",
       "      <td>-2.027918</td>\n",
       "      <td>-1.121212</td>\n",
       "      <td>-0.142525</td>\n",
       "      <td>1.759641</td>\n",
       "    </tr>\n",
       "    <tr>\n",
       "      <th>Latitude</th>\n",
       "      <td>648208.0</td>\n",
       "      <td>52.257879</td>\n",
       "      <td>1.105293</td>\n",
       "      <td>49.912941</td>\n",
       "      <td>51.460000</td>\n",
       "      <td>51.842163</td>\n",
       "      <td>53.193894</td>\n",
       "      <td>55.800956</td>\n",
       "    </tr>\n",
       "    <tr>\n",
       "      <th>Number_of_Vehicles</th>\n",
       "      <td>648208.0</td>\n",
       "      <td>1.843288</td>\n",
       "      <td>0.712747</td>\n",
       "      <td>1.000000</td>\n",
       "      <td>1.000000</td>\n",
       "      <td>2.000000</td>\n",
       "      <td>2.000000</td>\n",
       "      <td>67.000000</td>\n",
       "    </tr>\n",
       "    <tr>\n",
       "      <th>Number_of_Casualties</th>\n",
       "      <td>648208.0</td>\n",
       "      <td>1.327304</td>\n",
       "      <td>0.804570</td>\n",
       "      <td>1.000000</td>\n",
       "      <td>1.000000</td>\n",
       "      <td>1.000000</td>\n",
       "      <td>1.000000</td>\n",
       "      <td>93.000000</td>\n",
       "    </tr>\n",
       "    <tr>\n",
       "      <th>Speed_limit</th>\n",
       "      <td>648208.0</td>\n",
       "      <td>37.858172</td>\n",
       "      <td>13.849555</td>\n",
       "      <td>0.000000</td>\n",
       "      <td>30.000000</td>\n",
       "      <td>30.000000</td>\n",
       "      <td>40.000000</td>\n",
       "      <td>70.000000</td>\n",
       "    </tr>\n",
       "    <tr>\n",
       "      <th>Hour</th>\n",
       "      <td>648208.0</td>\n",
       "      <td>13.549365</td>\n",
       "      <td>5.101049</td>\n",
       "      <td>0.000000</td>\n",
       "      <td>10.000000</td>\n",
       "      <td>14.000000</td>\n",
       "      <td>17.000000</td>\n",
       "      <td>23.000000</td>\n",
       "    </tr>\n",
       "  </tbody>\n",
       "</table>\n",
       "</div>"
      ],
      "text/plain": [
       "                           count           mean            std           min  \\\n",
       "Location_Easting_OSGR   648208.0  457684.471736   88611.341073  90185.000000   \n",
       "Location_Northing_OSGR  648208.0  263312.280412  122443.236168  10290.000000   \n",
       "Longitude               648208.0      -1.164207       1.282775     -6.317417   \n",
       "Latitude                648208.0      52.257879       1.105293     49.912941   \n",
       "Number_of_Vehicles      648208.0       1.843288       0.712747      1.000000   \n",
       "Number_of_Casualties    648208.0       1.327304       0.804570      1.000000   \n",
       "Speed_limit             648208.0      37.858172      13.849555      0.000000   \n",
       "Hour                    648208.0      13.549365       5.101049      0.000000   \n",
       "\n",
       "                                  25%            50%            75%  \\\n",
       "Location_Easting_OSGR   398206.750000  459530.500000  528820.000000   \n",
       "Location_Northing_OSGR  174840.000000  217436.000000  366841.250000   \n",
       "Longitude                   -2.027918      -1.121212      -0.142525   \n",
       "Latitude                    51.460000      51.842163      53.193894   \n",
       "Number_of_Vehicles           1.000000       2.000000       2.000000   \n",
       "Number_of_Casualties         1.000000       1.000000       1.000000   \n",
       "Speed_limit                 30.000000      30.000000      40.000000   \n",
       "Hour                        10.000000      14.000000      17.000000   \n",
       "\n",
       "                                  max  \n",
       "Location_Easting_OSGR   655391.000000  \n",
       "Location_Northing_OSGR  656404.000000  \n",
       "Longitude                    1.759641  \n",
       "Latitude                    55.800956  \n",
       "Number_of_Vehicles          67.000000  \n",
       "Number_of_Casualties        93.000000  \n",
       "Speed_limit                 70.000000  \n",
       "Hour                        23.000000  "
      ]
     },
     "execution_count": 58,
     "metadata": {},
     "output_type": "execute_result"
    }
   ],
   "source": [
    "accidents_df.describe().T"
   ]
  },
  {
   "cell_type": "code",
   "execution_count": 61,
   "metadata": {},
   "outputs": [
    {
     "data": {
      "text/html": [
       "<div>\n",
       "<style scoped>\n",
       "    .dataframe tbody tr th:only-of-type {\n",
       "        vertical-align: middle;\n",
       "    }\n",
       "\n",
       "    .dataframe tbody tr th {\n",
       "        vertical-align: top;\n",
       "    }\n",
       "\n",
       "    .dataframe thead th {\n",
       "        text-align: right;\n",
       "    }\n",
       "</style>\n",
       "<table border=\"1\" class=\"dataframe\">\n",
       "  <thead>\n",
       "    <tr style=\"text-align: right;\">\n",
       "      <th></th>\n",
       "      <th>Accident_Index</th>\n",
       "      <th>Location_Easting_OSGR</th>\n",
       "      <th>Location_Northing_OSGR</th>\n",
       "      <th>Longitude</th>\n",
       "      <th>Latitude</th>\n",
       "      <th>Accident_Severity</th>\n",
       "      <th>Number_of_Vehicles</th>\n",
       "      <th>Number_of_Casualties</th>\n",
       "      <th>Date</th>\n",
       "      <th>Day_of_Week</th>\n",
       "      <th>...</th>\n",
       "      <th>Weather_Conditions</th>\n",
       "      <th>Road_Surface_Conditions</th>\n",
       "      <th>Urban_or_Rural_Area</th>\n",
       "      <th>LSOA_of_Accident_Location</th>\n",
       "      <th>Hour</th>\n",
       "      <th>Two_Hour_Groupings</th>\n",
       "      <th>Time_of_Day</th>\n",
       "      <th>Was_Daylight</th>\n",
       "      <th>Was_Bad_Weather</th>\n",
       "      <th>Was_Road_Dry</th>\n",
       "    </tr>\n",
       "  </thead>\n",
       "  <tbody>\n",
       "    <tr>\n",
       "      <th>1947</th>\n",
       "      <td>201501CW11286</td>\n",
       "      <td>527880.0</td>\n",
       "      <td>180840.0</td>\n",
       "      <td>-0.158577</td>\n",
       "      <td>51.512023</td>\n",
       "      <td>Slight</td>\n",
       "      <td>2</td>\n",
       "      <td>1</td>\n",
       "      <td>2015-08-12</td>\n",
       "      <td>Wednesday</td>\n",
       "      <td>...</td>\n",
       "      <td>Fine no high winds</td>\n",
       "      <td>Dry</td>\n",
       "      <td>Urban</td>\n",
       "      <td>E01004689</td>\n",
       "      <td>18</td>\n",
       "      <td>6pm-8pm</td>\n",
       "      <td>Rush hour</td>\n",
       "      <td>Yes</td>\n",
       "      <td>No</td>\n",
       "      <td>Yes</td>\n",
       "    </tr>\n",
       "    <tr>\n",
       "      <th>22799</th>\n",
       "      <td>201501YE80704</td>\n",
       "      <td>529330.0</td>\n",
       "      <td>192460.0</td>\n",
       "      <td>-0.133423</td>\n",
       "      <td>51.616118</td>\n",
       "      <td>Slight</td>\n",
       "      <td>1</td>\n",
       "      <td>1</td>\n",
       "      <td>2015-09-23</td>\n",
       "      <td>Wednesday</td>\n",
       "      <td>...</td>\n",
       "      <td>Fine no high winds</td>\n",
       "      <td>Dry</td>\n",
       "      <td>Urban</td>\n",
       "      <td>E01001534</td>\n",
       "      <td>15</td>\n",
       "      <td>2pm-4pm</td>\n",
       "      <td>Rush hour</td>\n",
       "      <td>Yes</td>\n",
       "      <td>No</td>\n",
       "      <td>Yes</td>\n",
       "    </tr>\n",
       "    <tr>\n",
       "      <th>121311</th>\n",
       "      <td>2015521507211</td>\n",
       "      <td>361824.0</td>\n",
       "      <td>173552.0</td>\n",
       "      <td>-2.550877</td>\n",
       "      <td>51.459648</td>\n",
       "      <td>Slight</td>\n",
       "      <td>2</td>\n",
       "      <td>1</td>\n",
       "      <td>2015-08-13</td>\n",
       "      <td>Thursday</td>\n",
       "      <td>...</td>\n",
       "      <td>Fine no high winds</td>\n",
       "      <td>Dry</td>\n",
       "      <td>Urban</td>\n",
       "      <td>E01014681</td>\n",
       "      <td>21</td>\n",
       "      <td>8pm-10pm</td>\n",
       "      <td>Evening</td>\n",
       "      <td>No</td>\n",
       "      <td>No</td>\n",
       "      <td>Yes</td>\n",
       "    </tr>\n",
       "  </tbody>\n",
       "</table>\n",
       "<p>3 rows × 26 columns</p>\n",
       "</div>"
      ],
      "text/plain": [
       "       Accident_Index  Location_Easting_OSGR  Location_Northing_OSGR  \\\n",
       "1947    201501CW11286               527880.0                180840.0   \n",
       "22799   201501YE80704               529330.0                192460.0   \n",
       "121311  2015521507211               361824.0                173552.0   \n",
       "\n",
       "        Longitude   Latitude Accident_Severity  Number_of_Vehicles  \\\n",
       "1947    -0.158577  51.512023            Slight                   2   \n",
       "22799   -0.133423  51.616118            Slight                   1   \n",
       "121311  -2.550877  51.459648            Slight                   2   \n",
       "\n",
       "        Number_of_Casualties       Date Day_of_Week     ...       \\\n",
       "1947                       1 2015-08-12   Wednesday     ...        \n",
       "22799                      1 2015-09-23   Wednesday     ...        \n",
       "121311                     1 2015-08-13    Thursday     ...        \n",
       "\n",
       "        Weather_Conditions Road_Surface_Conditions  Urban_or_Rural_Area  \\\n",
       "1947    Fine no high winds                     Dry                Urban   \n",
       "22799   Fine no high winds                     Dry                Urban   \n",
       "121311  Fine no high winds                     Dry                Urban   \n",
       "\n",
       "       LSOA_of_Accident_Location Hour Two_Hour_Groupings Time_of_Day  \\\n",
       "1947                   E01004689   18            6pm-8pm   Rush hour   \n",
       "22799                  E01001534   15            2pm-4pm   Rush hour   \n",
       "121311                 E01014681   21           8pm-10pm     Evening   \n",
       "\n",
       "       Was_Daylight Was_Bad_Weather Was_Road_Dry  \n",
       "1947            Yes              No          Yes  \n",
       "22799           Yes              No          Yes  \n",
       "121311           No              No          Yes  \n",
       "\n",
       "[3 rows x 26 columns]"
      ]
     },
     "execution_count": 61,
     "metadata": {},
     "output_type": "execute_result"
    }
   ],
   "source": [
    "accidents_df[accidents_df['Speed_limit']<=10]"
   ]
  },
  {
   "cell_type": "code",
   "execution_count": 64,
   "metadata": {},
   "outputs": [],
   "source": [
    "# Dropping the three accidents with 0 or 10 mph, as this may be data entry error\n",
    "accidents_df = accidents_df.drop(accidents_df[accidents_df.Speed_limit < 20].index)\n",
    "\n",
    "# Converting to integers\n",
    "accidents_df.Speed_limit = accidents_df.Speed_limit.astype('int64')"
   ]
  },
  {
   "cell_type": "code",
   "execution_count": 65,
   "metadata": {},
   "outputs": [
    {
     "data": {
      "image/png": "[encoded data removed]",
      "text/plain": [
       "<Figure size 1080x864 with 9 Axes>"
      ]
     },
     "metadata": {
      "needs_background": "light"
     },
     "output_type": "display_data"
    }
   ],
   "source": [
    "accidents_df.hist(figsize=(15,12))\n",
    "plt.tight_layout()\n",
    "plt.show()"
   ]
  },
  {
   "cell_type": "markdown",
   "metadata": {},
   "source": [
    "Looks like need to log transform `Number_of_Vehicles` and `Number_of_Casualties`."
   ]
  },
  {
   "cell_type": "markdown",
   "metadata": {},
   "source": [
    "### Log transformation"
   ]
  },
  {
   "cell_type": "code",
   "execution_count": 66,
   "metadata": {},
   "outputs": [],
   "source": [
    "accidents_df['log_Number_of_Casualties'] = np.log(accidents_df.Number_of_Casualties)\n",
    "accidents_df['log_Number_of_Vehicles'] = np.log(accidents_df.Number_of_Vehicles)"
   ]
  },
  {
   "cell_type": "code",
   "execution_count": 67,
   "metadata": {},
   "outputs": [
    {
     "data": {
      "image/png": "[encoded data removed]",
      "text/plain": [
       "<Figure size 432x288 with 2 Axes>"
      ]
     },
     "metadata": {
      "needs_background": "light"
     },
     "output_type": "display_data"
    }
   ],
   "source": [
    "accidents_df[['log_Number_of_Casualties', 'log_Number_of_Vehicles']].hist()\n",
    "plt.show()"
   ]
  },
  {
   "cell_type": "markdown",
   "metadata": {},
   "source": [
    "### Checking for collinearity"
   ]
  },
  {
   "cell_type": "code",
   "execution_count": 68,
   "metadata": {},
   "outputs": [
    {
     "data": {
      "image/png": "[encoded data removed]",
      "text/plain": [
       "<Figure size 792x648 with 2 Axes>"
      ]
     },
     "metadata": {},
     "output_type": "display_data"
    }
   ],
   "source": [
    "# Set the style of the visualization\n",
    "sns.set(style=\"white\")\n",
    "\n",
    "# Create a covariance matrix\n",
    "corr = accidents_df.corr()\n",
    "\n",
    "# Set up the matplotlib figure\n",
    "f, ax = plt.subplots(figsize=(11,9))\n",
    "\n",
    "# Generate a custom diverging colormap\n",
    "cmap = sns.diverging_palette(220, 10, as_cmap=True)\n",
    "\n",
    "# Draw the heatmap with the mask and correct aspect ratio\n",
    "sns.heatmap(corr, cmap=cmap, center=0,\n",
    "            square=True, linewidths=.5, cbar_kws={\"shrink\": .5}, annot=True);"
   ]
  },
  {
   "cell_type": "markdown",
   "metadata": {},
   "source": [
    "Obivous colliearity with latitude and longitude with northing and easting but will leave those and LSOA for now for adding the other datasets later. Further cleaning will be done after cleaning and merging the population and traffic datasets with this accidents dataset."
   ]
  },
  {
   "cell_type": "code",
   "execution_count": 69,
   "metadata": {},
   "outputs": [],
   "source": [
    "# Create csv of cleaned data to use later\n",
    "#accidents_df.to_csv('data/Accidents/Cleaned_accidents.csv')"
   ]
  }
 ],
 "metadata": {
  "colab": {
   "collapsed_sections": [],
   "name": "Traffic_accident_data.ipynb",
   "provenance": [],
   "version": "0.3.2"
  },
  "kernelspec": {
   "display_name": "learn-env",
   "language": "python",
   "name": "learn-env"
  },
  "language_info": {
   "codemirror_mode": {
    "name": "ipython",
    "version": 3
   },
   "file_extension": ".py",
   "mimetype": "text/x-python",
   "name": "python",
   "nbconvert_exporter": "python",
   "pygments_lexer": "ipython3",
   "version": "3.6.6"
  }
 },
 "nbformat": 4,
 "nbformat_minor": 1
}
